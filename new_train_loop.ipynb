{
 "cells": [
  {
   "cell_type": "code",
   "execution_count": 1,
   "id": "eb1855f7-6837-479f-9a7c-98b41f909b0e",
   "metadata": {},
   "outputs": [],
   "source": [
    "# !wget  https://hf.co/torchgeo/satlas/resolve/081d6607431bf36bdb59c223777cbb267131b8f2/sentinel2_resnet50_mi_ms-da5413d2.pth "
   ]
  },
  {
   "cell_type": "code",
   "execution_count": 2,
   "id": "3afed2e8-64db-4514-a033-d603ebe479ad",
   "metadata": {},
   "outputs": [],
   "source": [
    "import os\n",
    "from torchvision import transforms\n",
    "import torch\n",
    "import torch.nn as nn\n",
    "import rasterio\n",
    "import numpy as np\n",
    "from torch.utils.data import DataLoader\n",
    "from tqdm import tqdm\n",
    "from typing import List, Optional\n",
    "import torch\n",
    "import torch.nn as nn\n",
    "from torch.optim import Adam\n",
    "from tqdm import tqdm\n",
    "from dataset_create import WaterDataset,prepare,pad_to_stride\n",
    "from seg_model import seg_model_consturct,get_loss"
   ]
  },
  {
   "cell_type": "code",
   "execution_count": 3,
   "id": "00769385-23c7-4faf-baca-39b26d4c68f5",
   "metadata": {},
   "outputs": [
    {
     "name": "stderr",
     "output_type": "stream",
     "text": [
      "/home/user1/train/solutions/seg_model.py:40: FutureWarning: You are using `torch.load` with `weights_only=False` (the current default value), which uses the default pickle module implicitly. It is possible to construct malicious pickle data which will execute arbitrary code during unpickling (See https://github.com/pytorch/pytorch/blob/main/SECURITY.md#untrusted-models for more details). In a future release, the default value for `weights_only` will be flipped to `True`. This limits the functions that could be executed during unpickling. Arbitrary objects will no longer be allowed to be loaded via this mode unless they are explicitly allowlisted by the user via `torch.serialization.add_safe_globals`. We recommend you start setting `weights_only=True` for any use case where you don't have full control of the loaded file. Please open an issue on GitHub for any issues related to this experimental feature.\n",
      "  state_dict = torch.load(weights)\n"
     ]
    }
   ],
   "source": [
    "weights_path=\"sentinel2_resnet50_mi_ms-da5413d2.pth\"\n",
    "model = seg_model_consturct(\n",
    "    model= 'deeplabv3+',\n",
    "    backbone= 'resnet50',\n",
    "    weights= weights_path,\n",
    "    in_channels=10,\n",
    "    num_classes=1,\n",
    ")"
   ]
  },
  {
   "cell_type": "code",
   "execution_count": 4,
   "id": "f70f2e35-ed7f-4714-bc60-2e3248eb411d",
   "metadata": {},
   "outputs": [],
   "source": [
    "train_names = {v for v in os.listdir('../train/images/')  if \"9\" not in v }\n",
    "test_names = {v for v in os.listdir('../train/images/') if \"9\"  in v }\n"
   ]
  },
  {
   "cell_type": "code",
   "execution_count": 5,
   "id": "34fcd9e0-281b-493a-96f7-988c0df164aa",
   "metadata": {},
   "outputs": [],
   "source": [
    "from torch.utils.data import DataLoader, Dataset, random_split\n",
    "\n",
    "train_ds = WaterDataset(\n",
    "    img_path='../train/images/',\n",
    "    mask_path='../train/masks/',\n",
    "    file_names=train_names\n",
    ")\n",
    "trans  = train_ds.trans \n",
    "total_size = len(train_ds)\n",
    "val_size = int(total_size * 0.2)\n",
    "train_size = total_size - val_size\n",
    "\n",
    "\n",
    "train_ds, test_ds = random_split(\n",
    "    train_ds,\n",
    "    [train_size, val_size],\n",
    "    generator=torch.Generator().manual_seed(42)\n",
    ")\n"
   ]
  },
  {
   "cell_type": "code",
   "execution_count": 6,
   "id": "6607f878-6900-4869-9b9f-1a6494e76d87",
   "metadata": {},
   "outputs": [],
   "source": [
    "# dl = DataLoader(ds)"
   ]
  },
  {
   "cell_type": "code",
   "execution_count": 7,
   "id": "057b3198-beb9-4060-98a8-7f38289e1aa1",
   "metadata": {},
   "outputs": [],
   "source": [
    "device = 'cuda' if torch.cuda.is_available() else 'cpu'\n",
    "batch_size = 128\n",
    "num_workers = 4\n",
    "max_epochs = 500\n",
    "train_loader = DataLoader(train_ds,batch_size=batch_size, shuffle=True, num_workers=num_workers)\n",
    "val_loader = DataLoader(test_ds,batch_size=batch_size, shuffle=False, num_workers=num_workers)"
   ]
  },
  {
   "cell_type": "code",
   "execution_count": 8,
   "id": "2f15e6a7-5f43-4100-ac00-f7ed95fdcd42",
   "metadata": {},
   "outputs": [],
   "source": [
    "import os\n",
    "import rasterio\n",
    "import argparse\n",
    "import numpy as np\n",
    "import geopandas as gpd\n",
    "import matplotlib.pyplot as plt\n",
    "\n",
    "from shapely import affinity\n",
    "from shapely import Point\n",
    "\n",
    "from sklearn.metrics import f1_score\n",
    "\n"
   ]
  },
  {
   "cell_type": "code",
   "execution_count": 9,
   "id": "3299fd51-4978-4f07-ba06-58fdc9b80c9a",
   "metadata": {},
   "outputs": [],
   "source": [
    "def flooded_houses(\n",
    "    gdf,\n",
    "    lats: np.ndarray, \n",
    "    lons: np.ndarray, \n",
    "    pred: np.ndarray, \n",
    "    ground_truth: np.ndarray \n",
    "):\n",
    "    \n",
    "\n",
    "    flooded_pred = []\n",
    "    flooded_gt = []\n",
    "    pred = pred.flatten()  # Flatten the prediction array\n",
    "    ground_truth = ground_truth.flatten()  # Flatten the ground_truth array\n",
    "    \n",
    "    for _, row in gdf.iterrows():\n",
    "        polygon = row.geometry\n",
    "        # Scale the polygon for more accurate coverage\n",
    "        scaled_polygon = affinity.scale(polygon, xfact=1.5, yfact=1.5)\n",
    "        \n",
    "        # Get the polygon's bounding box (xmin, ymin, xmax, ymax)\n",
    "        xmin, ymin, xmax, ymax = scaled_polygon.bounds\n",
    "\n",
    "        # Find the indices of points that fall inside the bounding box of the polygon\n",
    "        selected_indices = np.where((ymin <= lats) & (lats <= ymax) & (xmin <= lons) & (lons <= xmax))\n",
    "        \n",
    "        lats_to_check = lats[selected_indices]\n",
    "        lons_to_check = lons[selected_indices]\n",
    "        flood_pred_to_check = pred[selected_indices]\n",
    "        flood_gt_to_check = ground_truth[selected_indices]\n",
    "\n",
    "        # Check if at least one point inside the polygon is flooded in the prediction mask\n",
    "        is_flooded_pred = any(\n",
    "            flood_pred_to_check[i] and scaled_polygon.contains(Point(lons_to_check[i], lats_to_check[i]))\n",
    "            for i in range(len(flood_pred_to_check))\n",
    "        )\n",
    "\n",
    "        # Check if at least one point inside the polygon is flooded in the ground truth mask\n",
    "        is_flooded_gt = any(\n",
    "            flood_gt_to_check[i] and scaled_polygon.contains(Point(lons_to_check[i], lats_to_check[i]))\n",
    "            for i in range(len(flood_gt_to_check))\n",
    "        )\n",
    "\n",
    "        flooded_pred.append(1 if is_flooded_pred else 0)\n",
    "        flooded_gt.append(1 if is_flooded_gt else 0)\n",
    "\n",
    "    return f1_score(flooded_gt, flooded_pred, average='macro')\n",
    "\n",
    "\n",
    "\n",
    "\n",
    "def test_metric(pre_gt_path, pre_pred, post_gt_path, post_pred, osm_path):\n",
    "    gdf = gpd.read_file(osm_path)\n",
    "    gdf = gdf.to_crs(4326)\n",
    "    gdf.tags.unique()\n",
    "    \n",
    "    with rasterio.open(pre_gt_path) as multi_band_src:\n",
    "        pre_mask = multi_band_src.read(1)\n",
    "        pre_height, pre_width = pre_mask.shape\n",
    "        pre_cols, pre_rows = np.meshgrid(np.arange(pre_width), np.arange(pre_height))\n",
    "        pre_x, pre_y = rasterio.transform.xy(multi_band_src.transform, pre_rows, pre_cols) \n",
    "        pre_lons, pre_lats = np.array(pre_x), np.array(pre_y)\n",
    "\n",
    "    with rasterio.open(post_gt_path) as multi_band_src:\n",
    "        post_mask = multi_band_src.read(1)\n",
    "        post_height, post_width = post_mask.shape\n",
    "        post_cols, post_rows = np.meshgrid(np.arange(post_width), np.arange(post_height))\n",
    "        post_x, post_y = rasterio.transform.xy(multi_band_src.transform, post_rows, post_cols) \n",
    "        post_lons, post_lats = np.array(post_x), np.array(post_y)\n",
    "    \n",
    "    f1_water = (f1_score(pre_mask, pre_pred, average='macro') + f1_score(post_mask, post_pred, average='macro'))/2\n",
    "\n",
    "    pre_f1 = flooded_houses(gdf, pre_lats, pre_lons, pre_pred, pre_mask)\n",
    "    post_f1 = flooded_houses(gdf, post_lats, post_lons, post_pred, post_mask)\n",
    "    avg_f1_business = (pre_f1 + post_f1) / 2\n",
    "\n",
    "    return (f1_water + avg_f1_business)/2"
   ]
  },
  {
   "cell_type": "code",
   "execution_count": 10,
   "id": "650eafb9-c3dc-4921-998d-de2d2c62f725",
   "metadata": {},
   "outputs": [],
   "source": [
    "import numpy as np"
   ]
  },
  {
   "cell_type": "code",
   "execution_count": 11,
   "id": "380d42a8-f485-4f81-94a6-87fad77d6ac5",
   "metadata": {},
   "outputs": [],
   "source": [
    "def get_pred(model,file,paths,trans,device):\n",
    "    output_stride=256\n",
    "    with rasterio.open(f'{paths}/{file}') as src:\n",
    "        image = src.read().astype(np.float32)  \n",
    "        image = torch.tensor(image)\n",
    "        size_out = image.size()\n",
    "        image = pad_to_stride(image, output_stride)\n",
    "        h_splits = image.shape[1] // output_stride\n",
    "        w_splits = image.shape[2] // output_stride\n",
    "        tensor_split = image.unfold(1, output_stride, output_stride).unfold(2, output_stride, output_stride)\n",
    "        tensor_split = tensor_split.contiguous().view(-1, image.shape[0], output_stride, output_stride)\n",
    "        tensor_split = trans(tensor_split)\n",
    "        meta = src.meta\n",
    "\n",
    "    model.eval()\n",
    "    sig = torch.nn.Sigmoid()\n",
    "    outputs = []\n",
    "\n",
    "    for tensor in tensor_split:\n",
    "        with torch.no_grad():\n",
    "            output = sig(model(tensor.to(device).unsqueeze(0))).cpu()\n",
    "            outputs.append(output)\n",
    "    output_rows = []\n",
    "    for h in range(h_splits):\n",
    "        row_outputs = outputs[h * w_splits : (h + 1) * w_splits]\n",
    "        output_rows.append(torch.cat(row_outputs, dim=-1))  \n",
    "\n",
    "    final_output = torch.cat(output_rows, dim=-2)\n",
    "\n",
    "\n",
    "    meta['count'] = 1\n",
    "    pred = (final_output.squeeze(0)<0.5).cpu().numpy().astype(\"int32\")\n",
    "\n",
    "\n",
    "    pred = pred[0][:size_out[1], :size_out[2]]\n",
    "    return pred\n"
   ]
  },
  {
   "cell_type": "code",
   "execution_count": 12,
   "id": "0bda785a-8e9a-4b6d-98cb-52858134af0f",
   "metadata": {},
   "outputs": [],
   "source": [
    "from torch.optim.lr_scheduler import StepLR\n",
    "def train_segmentation(model, train_loader,criterion,val_loader, trans,num_epochs=25, learning_rate=1e-5,step_size=5, gamma=0.1):\n",
    "    model = model.to(device)\n",
    "    \n",
    "    optimizer = Adam(model.parameters(), lr=learning_rate,weight_decay=1e-5)\n",
    "    scheduler = StepLR(optimizer, step_size=step_size, gamma=gamma)\n",
    "    for epoch in range(num_epochs):\n",
    "        model.train()  \n",
    "        train_loss = 0.0\n",
    "        \n",
    "        for images, masks in tqdm(train_loader, desc=f\"Training Epoch {epoch+1}/{num_epochs}\"):\n",
    "            images, masks = images.to(device), masks.to(device)\n",
    "            optimizer.zero_grad()\n",
    "            \n",
    "            outputs = model(images)\n",
    "          \n",
    "            loss = criterion(outputs, masks)\n",
    "            \n",
    "            loss.backward()\n",
    "            optimizer.step()\n",
    "            \n",
    "            train_loss += loss.item()\n",
    "        \n",
    "        avg_train_loss = train_loss / len(train_loader)\n",
    "        print(f\"Epoch [{epoch+1}/{num_epochs}], Train Loss: {avg_train_loss:.4f}\")\n",
    "        \n",
    "        model.eval()  \n",
    "        val_loss = 0.0\n",
    "        with torch.no_grad():\n",
    "            for images, masks in tqdm(val_loader, desc=\"Validating\"):\n",
    "                images, masks = images.to(device), masks.to(device)\n",
    "                outputs = model(images)\n",
    "                loss = criterion(outputs, masks)\n",
    "                val_loss += loss.item()\n",
    "\n",
    "   \n",
    "            \n",
    "        with rasterio.open(\"../train/masks/9_1.tif\") as multi_band_src:\n",
    "            pre_mask = multi_band_src.read(1)\n",
    "            \n",
    "        with rasterio.open(\"../train/masks/9_2.tif\") as multi_band_src:\n",
    "            post_mask = multi_band_src.read(1)\n",
    "        \n",
    "        avg_val_loss = val_loss / len(val_loader)\n",
    "        pre_pred = get_pred(model,\"9_1.tif\",'../train/images/',trans,device)\n",
    "        post_pred = get_pred(model,\"9_2.tif\",'../train/images/',trans,device)\n",
    "        metric = test_metric(\"../train/masks/9_1.tif\", pre_pred, \"../train/masks/9_2.tif\", post_pred, \"../train/osm/9.geojson\")\n",
    "        print(f\"Epoch [{epoch+1}/{num_epochs}], Validation Loss: {avg_val_loss:.4f} , Validation metric: {metric:.4f}\")\n",
    "        scheduler.step()\n",
    "        print(f\"Epoch [{epoch+1}/{num_epochs}], Learning Rate: {scheduler.get_last_lr()[0]:.6f}\")\n",
    "        \n",
    "    \n",
    "    print(\"Training complete.\")\n",
    "\n",
    "\n"
   ]
  },
  {
   "cell_type": "code",
   "execution_count": 13,
   "id": "93ab3c61-ed76-4806-8c2c-0976ae660f36",
   "metadata": {},
   "outputs": [
    {
     "name": "stderr",
     "output_type": "stream",
     "text": [
      "Training Epoch 1/25: 100%|██████████| 27/27 [00:28<00:00,  1.05s/it]\n"
     ]
    },
    {
     "name": "stdout",
     "output_type": "stream",
     "text": [
      "Epoch [1/25], Train Loss: 0.6179\n"
     ]
    },
    {
     "name": "stderr",
     "output_type": "stream",
     "text": [
      "Validating: 100%|██████████| 7/7 [00:04<00:00,  1.56it/s]\n"
     ]
    },
    {
     "name": "stdout",
     "output_type": "stream",
     "text": [
      "Epoch [1/25], Validation Loss: 0.6220 , Validation metric: 0.2012\n",
      "Epoch [1/25], Learning Rate: 0.000010\n"
     ]
    },
    {
     "name": "stderr",
     "output_type": "stream",
     "text": [
      "Training Epoch 2/25: 100%|██████████| 27/27 [00:27<00:00,  1.04s/it]\n"
     ]
    },
    {
     "name": "stdout",
     "output_type": "stream",
     "text": [
      "Epoch [2/25], Train Loss: 0.5703\n"
     ]
    },
    {
     "name": "stderr",
     "output_type": "stream",
     "text": [
      "Validating: 100%|██████████| 7/7 [00:04<00:00,  1.55it/s]\n"
     ]
    },
    {
     "name": "stdout",
     "output_type": "stream",
     "text": [
      "Epoch [2/25], Validation Loss: 0.5923 , Validation metric: 0.2134\n",
      "Epoch [2/25], Learning Rate: 0.000010\n"
     ]
    },
    {
     "name": "stderr",
     "output_type": "stream",
     "text": [
      "Training Epoch 3/25: 100%|██████████| 27/27 [00:28<00:00,  1.04s/it]\n"
     ]
    },
    {
     "name": "stdout",
     "output_type": "stream",
     "text": [
      "Epoch [3/25], Train Loss: 0.5133\n"
     ]
    },
    {
     "name": "stderr",
     "output_type": "stream",
     "text": [
      "Validating: 100%|██████████| 7/7 [00:04<00:00,  1.53it/s]\n"
     ]
    },
    {
     "name": "stdout",
     "output_type": "stream",
     "text": [
      "Epoch [3/25], Validation Loss: 0.5870 , Validation metric: 0.2010\n",
      "Epoch [3/25], Learning Rate: 0.000010\n"
     ]
    },
    {
     "name": "stderr",
     "output_type": "stream",
     "text": [
      "Training Epoch 4/25: 100%|██████████| 27/27 [00:28<00:00,  1.04s/it]\n"
     ]
    },
    {
     "name": "stdout",
     "output_type": "stream",
     "text": [
      "Epoch [4/25], Train Loss: 0.4717\n"
     ]
    },
    {
     "name": "stderr",
     "output_type": "stream",
     "text": [
      "Validating: 100%|██████████| 7/7 [00:04<00:00,  1.56it/s]\n"
     ]
    },
    {
     "name": "stdout",
     "output_type": "stream",
     "text": [
      "Epoch [4/25], Validation Loss: 0.5019 , Validation metric: 0.1968\n",
      "Epoch [4/25], Learning Rate: 0.000010\n"
     ]
    },
    {
     "name": "stderr",
     "output_type": "stream",
     "text": [
      "Training Epoch 5/25: 100%|██████████| 27/27 [00:27<00:00,  1.03s/it]\n"
     ]
    },
    {
     "name": "stdout",
     "output_type": "stream",
     "text": [
      "Epoch [5/25], Train Loss: 0.4379\n"
     ]
    },
    {
     "name": "stderr",
     "output_type": "stream",
     "text": [
      "Validating: 100%|██████████| 7/7 [00:04<00:00,  1.57it/s]\n"
     ]
    },
    {
     "name": "stdout",
     "output_type": "stream",
     "text": [
      "Epoch [5/25], Validation Loss: 0.4679 , Validation metric: 0.1966\n",
      "Epoch [5/25], Learning Rate: 0.000010\n"
     ]
    },
    {
     "name": "stderr",
     "output_type": "stream",
     "text": [
      "Training Epoch 6/25: 100%|██████████| 27/27 [00:28<00:00,  1.04s/it]\n"
     ]
    },
    {
     "name": "stdout",
     "output_type": "stream",
     "text": [
      "Epoch [6/25], Train Loss: 0.4043\n"
     ]
    },
    {
     "name": "stderr",
     "output_type": "stream",
     "text": [
      "Validating: 100%|██████████| 7/7 [00:04<00:00,  1.57it/s]\n"
     ]
    },
    {
     "name": "stdout",
     "output_type": "stream",
     "text": [
      "Epoch [6/25], Validation Loss: 0.4353 , Validation metric: 0.3216\n",
      "Epoch [6/25], Learning Rate: 0.000010\n"
     ]
    },
    {
     "name": "stderr",
     "output_type": "stream",
     "text": [
      "Training Epoch 7/25: 100%|██████████| 27/27 [00:27<00:00,  1.04s/it]\n"
     ]
    },
    {
     "name": "stdout",
     "output_type": "stream",
     "text": [
      "Epoch [7/25], Train Loss: 0.3769\n"
     ]
    },
    {
     "name": "stderr",
     "output_type": "stream",
     "text": [
      "Validating: 100%|██████████| 7/7 [00:04<00:00,  1.56it/s]\n"
     ]
    },
    {
     "name": "stdout",
     "output_type": "stream",
     "text": [
      "Epoch [7/25], Validation Loss: 0.4170 , Validation metric: 0.3216\n",
      "Epoch [7/25], Learning Rate: 0.000001\n"
     ]
    },
    {
     "name": "stderr",
     "output_type": "stream",
     "text": [
      "Training Epoch 8/25: 100%|██████████| 27/27 [00:27<00:00,  1.03s/it]\n"
     ]
    },
    {
     "name": "stdout",
     "output_type": "stream",
     "text": [
      "Epoch [8/25], Train Loss: 0.3613\n"
     ]
    },
    {
     "name": "stderr",
     "output_type": "stream",
     "text": [
      "Validating: 100%|██████████| 7/7 [00:04<00:00,  1.56it/s]\n"
     ]
    },
    {
     "name": "stdout",
     "output_type": "stream",
     "text": [
      "Epoch [8/25], Validation Loss: 0.4094 , Validation metric: 0.3216\n",
      "Epoch [8/25], Learning Rate: 0.000001\n"
     ]
    },
    {
     "name": "stderr",
     "output_type": "stream",
     "text": [
      "Training Epoch 9/25: 100%|██████████| 27/27 [00:27<00:00,  1.03s/it]\n"
     ]
    },
    {
     "name": "stdout",
     "output_type": "stream",
     "text": [
      "Epoch [9/25], Train Loss: 0.3575\n"
     ]
    },
    {
     "name": "stderr",
     "output_type": "stream",
     "text": [
      "Validating: 100%|██████████| 7/7 [00:04<00:00,  1.56it/s]\n"
     ]
    },
    {
     "name": "stdout",
     "output_type": "stream",
     "text": [
      "Epoch [9/25], Validation Loss: 0.4084 , Validation metric: 0.3216\n",
      "Epoch [9/25], Learning Rate: 0.000001\n"
     ]
    },
    {
     "name": "stderr",
     "output_type": "stream",
     "text": [
      "Training Epoch 10/25: 100%|██████████| 27/27 [00:27<00:00,  1.04s/it]\n"
     ]
    },
    {
     "name": "stdout",
     "output_type": "stream",
     "text": [
      "Epoch [10/25], Train Loss: 0.3552\n"
     ]
    },
    {
     "name": "stderr",
     "output_type": "stream",
     "text": [
      "Validating: 100%|██████████| 7/7 [00:04<00:00,  1.56it/s]\n"
     ]
    },
    {
     "name": "stdout",
     "output_type": "stream",
     "text": [
      "Epoch [10/25], Validation Loss: 0.3940 , Validation metric: 0.3216\n",
      "Epoch [10/25], Learning Rate: 0.000001\n"
     ]
    },
    {
     "name": "stderr",
     "output_type": "stream",
     "text": [
      "Training Epoch 11/25: 100%|██████████| 27/27 [00:27<00:00,  1.03s/it]\n"
     ]
    },
    {
     "name": "stdout",
     "output_type": "stream",
     "text": [
      "Epoch [11/25], Train Loss: 0.3551\n"
     ]
    },
    {
     "name": "stderr",
     "output_type": "stream",
     "text": [
      "Validating: 100%|██████████| 7/7 [00:04<00:00,  1.57it/s]\n"
     ]
    },
    {
     "name": "stdout",
     "output_type": "stream",
     "text": [
      "Epoch [11/25], Validation Loss: 0.4207 , Validation metric: 0.3216\n",
      "Epoch [11/25], Learning Rate: 0.000001\n"
     ]
    },
    {
     "name": "stderr",
     "output_type": "stream",
     "text": [
      "Training Epoch 12/25: 100%|██████████| 27/27 [00:28<00:00,  1.04s/it]\n"
     ]
    },
    {
     "name": "stdout",
     "output_type": "stream",
     "text": [
      "Epoch [12/25], Train Loss: 0.3521\n"
     ]
    },
    {
     "name": "stderr",
     "output_type": "stream",
     "text": [
      "Validating: 100%|██████████| 7/7 [00:04<00:00,  1.56it/s]\n"
     ]
    },
    {
     "name": "stdout",
     "output_type": "stream",
     "text": [
      "Epoch [12/25], Validation Loss: 0.4121 , Validation metric: 0.3216\n",
      "Epoch [12/25], Learning Rate: 0.000001\n"
     ]
    },
    {
     "name": "stderr",
     "output_type": "stream",
     "text": [
      "Training Epoch 13/25:  33%|███▎      | 9/27 [00:11<00:22,  1.27s/it]\n"
     ]
    },
    {
     "ename": "KeyboardInterrupt",
     "evalue": "",
     "output_type": "error",
     "traceback": [
      "\u001b[0;31m---------------------------------------------------------------------------\u001b[0m",
      "\u001b[0;31mKeyboardInterrupt\u001b[0m                         Traceback (most recent call last)",
      "Cell \u001b[0;32mIn[13], line 2\u001b[0m\n\u001b[1;32m      1\u001b[0m criterion \u001b[38;5;241m=\u001b[39m get_loss(\u001b[38;5;124m'\u001b[39m\u001b[38;5;124mce\u001b[39m\u001b[38;5;124m'\u001b[39m)\n\u001b[0;32m----> 2\u001b[0m \u001b[43mtrain_segmentation\u001b[49m\u001b[43m(\u001b[49m\u001b[43mmodel\u001b[49m\u001b[43m,\u001b[49m\u001b[43m \u001b[49m\u001b[43mtrain_loader\u001b[49m\u001b[43m,\u001b[49m\u001b[43mcriterion\u001b[49m\u001b[43m,\u001b[49m\u001b[43mval_loader\u001b[49m\u001b[43m,\u001b[49m\u001b[43m \u001b[49m\u001b[43mtrans\u001b[49m\u001b[43m,\u001b[49m\u001b[43mnum_epochs\u001b[49m\u001b[38;5;241;43m=\u001b[39;49m\u001b[38;5;241;43m25\u001b[39;49m\u001b[43m,\u001b[49m\u001b[43m \u001b[49m\u001b[43mlearning_rate\u001b[49m\u001b[38;5;241;43m=\u001b[39;49m\u001b[38;5;241;43m1e-5\u001b[39;49m\u001b[43m,\u001b[49m\u001b[43mstep_size\u001b[49m\u001b[38;5;241;43m=\u001b[39;49m\u001b[38;5;241;43m7\u001b[39;49m\u001b[43m,\u001b[49m\u001b[43m \u001b[49m\u001b[43mgamma\u001b[49m\u001b[38;5;241;43m=\u001b[39;49m\u001b[38;5;241;43m0.1\u001b[39;49m\u001b[43m)\u001b[49m\n",
      "Cell \u001b[0;32mIn[12], line 22\u001b[0m, in \u001b[0;36mtrain_segmentation\u001b[0;34m(model, train_loader, criterion, val_loader, trans, num_epochs, learning_rate, step_size, gamma)\u001b[0m\n\u001b[1;32m     19\u001b[0m     loss\u001b[38;5;241m.\u001b[39mbackward()\n\u001b[1;32m     20\u001b[0m     optimizer\u001b[38;5;241m.\u001b[39mstep()\n\u001b[0;32m---> 22\u001b[0m     train_loss \u001b[38;5;241m+\u001b[39m\u001b[38;5;241m=\u001b[39m \u001b[43mloss\u001b[49m\u001b[38;5;241;43m.\u001b[39;49m\u001b[43mitem\u001b[49m\u001b[43m(\u001b[49m\u001b[43m)\u001b[49m\n\u001b[1;32m     24\u001b[0m avg_train_loss \u001b[38;5;241m=\u001b[39m train_loss \u001b[38;5;241m/\u001b[39m \u001b[38;5;28mlen\u001b[39m(train_loader)\n\u001b[1;32m     25\u001b[0m \u001b[38;5;28mprint\u001b[39m(\u001b[38;5;124mf\u001b[39m\u001b[38;5;124m\"\u001b[39m\u001b[38;5;124mEpoch [\u001b[39m\u001b[38;5;132;01m{\u001b[39;00mepoch\u001b[38;5;241m+\u001b[39m\u001b[38;5;241m1\u001b[39m\u001b[38;5;132;01m}\u001b[39;00m\u001b[38;5;124m/\u001b[39m\u001b[38;5;132;01m{\u001b[39;00mnum_epochs\u001b[38;5;132;01m}\u001b[39;00m\u001b[38;5;124m], Train Loss: \u001b[39m\u001b[38;5;132;01m{\u001b[39;00mavg_train_loss\u001b[38;5;132;01m:\u001b[39;00m\u001b[38;5;124m.4f\u001b[39m\u001b[38;5;132;01m}\u001b[39;00m\u001b[38;5;124m\"\u001b[39m)\n",
      "\u001b[0;31mKeyboardInterrupt\u001b[0m: "
     ]
    }
   ],
   "source": [
    "criterion = get_loss('ce')\n",
    "train_segmentation(model, train_loader,criterion,val_loader, trans,num_epochs=25, learning_rate=1e-5,step_size=7, gamma=0.1)\n"
   ]
  },
  {
   "cell_type": "code",
   "execution_count": null,
   "id": "8bbcebb8-ed50-4905-a9f6-0bbac9674fa4",
   "metadata": {},
   "outputs": [],
   "source": [
    "# from torch.utils.data import DataLoader, Dataset, random_split\n",
    "\n",
    "# total_size = len(dataset)\n",
    "#         val_size = int(total_size * self.val_split)\n",
    "#         train_size = total_size - val_size\n",
    "\n",
    "\n",
    "#         self.train_set, self.val_set = random_split(\n",
    "#             dataset,\n",
    "#             [train_size, val_size],\n",
    "#             generator=torch.Generator().manual_seed(42)\n",
    "#         )"
   ]
  },
  {
   "cell_type": "code",
   "execution_count": null,
   "id": "448b8b0c-0317-4fc1-949f-c90afa332359",
   "metadata": {},
   "outputs": [],
   "source": [
    "# torch.save(trainer.model.model.state_dict(), \"weight_ckpt/best.pth\")\n"
   ]
  },
  {
   "cell_type": "code",
   "execution_count": null,
   "id": "2ca9f4a6-0f24-46f1-8bd5-e35cc307a6d3",
   "metadata": {},
   "outputs": [],
   "source": [
    "# !ls weight_ckpt"
   ]
  },
  {
   "cell_type": "code",
   "execution_count": null,
   "id": "46db7a70-3061-4e97-a1e0-6e03fb172bab",
   "metadata": {},
   "outputs": [],
   "source": [
    "# import pickle "
   ]
  },
  {
   "cell_type": "code",
   "execution_count": null,
   "id": "8632235f-003a-40fe-8aca-0e83fe5edfa9",
   "metadata": {},
   "outputs": [],
   "source": [
    "# with open(\"weight_ckpt/best.pikle\",\"wb\") as f:\n",
    "#     pickle.dump(trainer.model.model, f)"
   ]
  },
  {
   "cell_type": "code",
   "execution_count": null,
   "id": "97ed0674-34a5-4a36-b6eb-b7993eda2855",
   "metadata": {},
   "outputs": [],
   "source": []
  }
 ],
 "metadata": {
  "kernelspec": {
   "display_name": "hack",
   "language": "python",
   "name": "hack"
  },
  "language_info": {
   "codemirror_mode": {
    "name": "ipython",
    "version": 3
   },
   "file_extension": ".py",
   "mimetype": "text/x-python",
   "name": "python",
   "nbconvert_exporter": "python",
   "pygments_lexer": "ipython3",
   "version": "3.10.12"
  }
 },
 "nbformat": 4,
 "nbformat_minor": 5
}
