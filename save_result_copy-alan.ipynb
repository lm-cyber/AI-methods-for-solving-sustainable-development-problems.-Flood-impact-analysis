{
 "cells": [
  {
   "cell_type": "code",
   "execution_count": 1,
   "id": "a95c6892-d14c-40de-b17b-3be4dc1d1083",
   "metadata": {},
   "outputs": [],
   "source": [
    "from torch.utils.data import Dataset\n",
    "\n",
    "import numpy as np\n",
    "import torch \n",
    "import os\n",
    "import rasterio\n",
    "import torch.nn.functional as F\n",
    "from torchvision import transforms\n",
    "\n",
    "mean = [1315.1941, 1320.8625, 1322.4388, 1312.7904, 1321.5713, 1331.3823, 1326.7014, 1314.1525, 1315.7151, 1313.9711]\n",
    "std = [912.0858, 915.2389, 918.5796, 915.2799, 919.2444, 922.5997, 921.9182, 920.0427, 917.4285, 913.5229]\n",
    "def pad_to_stride(tensor, stride):\n",
    "    _, h, w = tensor.shape\n",
    "    pad_h = (stride - h % stride) \n",
    "    pad_w = (stride - w % stride)\n",
    "    padding = (0, pad_w, 0, pad_h)  # (w_left, w_right, h_top, h_bottom)\n",
    "    return torch.nn.functional.pad(tensor, padding,mode='reflect')\n",
    "def prepare(path_images,path_masks,files):\n",
    "    output_stride = 256\n",
    "    result=None\n",
    "    result_m=None\n",
    "    \n",
    "    \n",
    "    for i in files:\n",
    "        with rasterio.open(f'{path_images}/{i}') as src:\n",
    "            image = src.read().astype(np.float32)  # Read image\n",
    "            image = torch.tensor(image)\n",
    "    \n",
    "            image = pad_to_stride(image, output_stride)\n",
    "            h_splits = image.shape[1] // output_stride\n",
    "            w_splits = image.shape[2] // output_stride\n",
    "            tensor_split = image.unfold(1, output_stride, output_stride).unfold(2, output_stride, output_stride)\n",
    "            tensor_split = tensor_split.contiguous().view(-1, image.shape[0], output_stride, output_stride)\n",
    "        with rasterio.open(f'{path_masks}/{i}') as src:\n",
    "            image_m = src.read().astype(np.float32)  # Read image\n",
    "            image_m = torch.tensor(image_m)\n",
    "    \n",
    "            image_m = pad_to_stride(image_m, output_stride)\n",
    "            h_splits_m = image_m.shape[1] // output_stride\n",
    "            w_splits_m = image_m.shape[2] // output_stride\n",
    "            tensor_split_m = image_m.unfold(1, output_stride, output_stride).unfold(2, output_stride, output_stride)\n",
    "            tensor_split_m = tensor_split_m.contiguous().view(-1, image_m.shape[0], output_stride, output_stride)\n",
    "    \n",
    "        # Model evaluation\n",
    "        if result is not None:\n",
    "            result=torch.cat((result, tensor_split), dim=0)\n",
    "            result_m=torch.cat((result_m, tensor_split_m), dim=0)\n",
    "        else:\n",
    "            result=tensor_split\n",
    "            result_m=tensor_split_m\n",
    "    return result,result_m"
   ]
  },
  {
   "cell_type": "code",
   "execution_count": null,
   "id": "57992c8c-9a4d-40d3-9910-34a888cbef3d",
   "metadata": {},
   "outputs": [],
   "source": []
  },
  {
   "cell_type": "code",
   "execution_count": 2,
   "id": "b99a5fb6-7df2-4a61-b7c6-23b6e144650f",
   "metadata": {},
   "outputs": [],
   "source": [
    "# model"
   ]
  },
  {
   "cell_type": "code",
   "execution_count": 3,
   "id": "aeaa953c-9ed5-41a1-9b9f-7f75f553461d",
   "metadata": {},
   "outputs": [
    {
     "name": "stderr",
     "output_type": "stream",
     "text": [
      "/home/user1/environments/hack/lib/python3.10/site-packages/kornia/feature/lightglue.py:44: FutureWarning: `torch.cuda.amp.custom_fwd(args...)` is deprecated. Please use `torch.amp.custom_fwd(args..., device_type='cuda')` instead.\n",
      "  @torch.cuda.amp.custom_fwd(cast_inputs=torch.float32)\n"
     ]
    }
   ],
   "source": [
    "\n",
    "from typing import Any\n",
    "\n",
    "import timm\n",
    "import torch\n",
    "from timm.models import ResNet\n",
    "from torchvision.models._api import Weights, WeightsEnum\n",
    "import torchgeo.transforms.transforms as T\n",
    "\n",
    "\n",
    "\n",
    "\n"
   ]
  },
  {
   "cell_type": "code",
   "execution_count": 4,
   "id": "c3308ad0-4f84-4cee-b7d0-20bbf3c922ed",
   "metadata": {},
   "outputs": [],
   "source": [
    "import os\n",
    "from torchvision import transforms\n",
    "import torch\n",
    "import torch.nn as nn\n",
    "import rasterio\n",
    "import numpy as np\n",
    "from torch.utils.data import DataLoader\n",
    "from tqdm import tqdm\n",
    "from typing import List, Optional\n",
    "import torch\n",
    "import torch.nn as nn\n",
    "from torch.optim import Adam\n",
    "from tqdm import tqdm\n",
    "from dataset_create import WaterDataset,prepare,pad_to_stride\n",
    "from seg_model import seg_model_consturct,get_loss"
   ]
  },
  {
   "cell_type": "code",
   "execution_count": 6,
   "id": "cadf847d-00b3-4914-bfc6-8de21ade048e",
   "metadata": {},
   "outputs": [
    {
     "name": "stderr",
     "output_type": "stream",
     "text": [
      "/tmp/ipykernel_202086/2450901176.py:8: FutureWarning: You are using `torch.load` with `weights_only=False` (the current default value), which uses the default pickle module implicitly. It is possible to construct malicious pickle data which will execute arbitrary code during unpickling (See https://github.com/pytorch/pytorch/blob/main/SECURITY.md#untrusted-models for more details). In a future release, the default value for `weights_only` will be flipped to `True`. This limits the functions that could be executed during unpickling. Arbitrary objects will no longer be allowed to be loaded via this mode unless they are explicitly allowlisted by the user via `torch.serialization.add_safe_globals`. We recommend you start setting `weights_only=True` for any use case where you don't have full control of the loaded file. Please open an issue on GitHub for any issues related to this experimental feature.\n",
      "  model.load_state_dict(torch.load(\"best_focal_e3.pth\"))\n"
     ]
    },
    {
     "data": {
      "text/plain": [
       "<All keys matched successfully>"
      ]
     },
     "execution_count": 6,
     "metadata": {},
     "output_type": "execute_result"
    }
   ],
   "source": [
    "model = seg_model_consturct(\n",
    "    model= 'deeplabv3+',\n",
    "    backbone= 'resnet50',\n",
    "    weights= None,\n",
    "    in_channels=10,\n",
    "    num_classes=1,\n",
    ")\n",
    "model.load_state_dict(torch.load(\"best_focal_e3.pth\"))"
   ]
  },
  {
   "cell_type": "code",
   "execution_count": 9,
   "id": "ae420e4b-4211-4df5-9a9f-ea0509dac07a",
   "metadata": {},
   "outputs": [],
   "source": [
    "device='cuda'"
   ]
  },
  {
   "cell_type": "code",
   "execution_count": 14,
   "id": "17058344-6979-40fd-88b3-cd5d881983cc",
   "metadata": {
    "scrolled": true
   },
   "outputs": [
    {
     "name": "stdout",
     "output_type": "stream",
     "text": [
      "5.tif\n",
      "(10, 2336, 3230)\n",
      "torch.Size([10, 2560, 3328])\n",
      "torch.Size([130, 10, 256, 256])\n",
      "(2336, 3230)\n",
      "6_2.tif\n",
      "(10, 4971, 10632)\n",
      "torch.Size([10, 5120, 10752])\n",
      "torch.Size([840, 10, 256, 256])\n",
      "(4971, 10632)\n",
      "1.tif\n",
      "(10, 10134, 10680)\n",
      "torch.Size([10, 10240, 10752])\n",
      "torch.Size([1680, 10, 256, 256])\n",
      "(10134, 10680)\n",
      "2.tif\n",
      "(10, 2648, 6744)\n",
      "torch.Size([10, 2816, 6912])\n",
      "torch.Size([297, 10, 256, 256])\n",
      "(2648, 6744)\n",
      "9_2.tif\n",
      "(10, 512, 512)\n",
      "torch.Size([10, 768, 768])\n",
      "torch.Size([9, 10, 256, 256])\n",
      "(512, 512)\n",
      "9_1.tif\n",
      "(10, 512, 512)\n",
      "torch.Size([10, 768, 768])\n",
      "torch.Size([9, 10, 256, 256])\n",
      "(512, 512)\n",
      "6_1.tif\n",
      "(10, 4971, 10632)\n",
      "torch.Size([10, 5120, 10752])\n",
      "torch.Size([840, 10, 256, 256])\n",
      "(4971, 10632)\n",
      "4.tif\n",
      "(10, 4389, 6708)\n",
      "torch.Size([10, 4608, 6912])\n",
      "torch.Size([486, 10, 256, 256])\n",
      "(4389, 6708)\n"
     ]
    }
   ],
   "source": [
    "import os\n",
    "output_stride = 256\n",
    "model.to('cuda')\n",
    "for i in os.listdir('../train/images/'):\n",
    "    print(i)\n",
    "    with rasterio.open(f'../train/images/{i}') as src:\n",
    "        image = src.read().astype(np.float32)  # Read image\n",
    "        print(image.shape)\n",
    "        image = torch.tensor(image)\n",
    "        size_out = image.size()\n",
    "\n",
    "        # Pad to make dimensions divisible by 16\n",
    "        image = pad_to_stride(image, output_stride)\n",
    "        print(image.shape)\n",
    "        h_splits = image.shape[1] // output_stride\n",
    "        w_splits = image.shape[2] // output_stride\n",
    "        tensor_split = image.unfold(1, output_stride, output_stride).unfold(2, output_stride, output_stride)\n",
    "        tensor_split = tensor_split.contiguous().view(-1, image.shape[0], output_stride, output_stride)\n",
    "        print(tensor_split.shape)\n",
    "        meta = src.meta\n",
    "\n",
    "    # Model evaluation\n",
    "    model.eval()\n",
    "    sig = torch.nn.Sigmoid()\n",
    "    outputs = []\n",
    "\n",
    "    for tensor in tensor_split:\n",
    "        with torch.no_grad():\n",
    "            output = sig(model(tensor.to(device).unsqueeze(0))).cpu()\n",
    "            outputs.append(output)\n",
    "    output_rows = []\n",
    "    for h in range(h_splits):\n",
    "        row_outputs = outputs[h * w_splits : (h + 1) * w_splits]\n",
    "        output_rows.append(torch.cat(row_outputs, dim=-1))  \n",
    "\n",
    "    final_output = torch.cat(output_rows, dim=-2)\n",
    "\n",
    "\n",
    "    meta['count'] = 1\n",
    "    pred = (final_output.squeeze(0)<0.5).cpu().numpy().astype(\"int32\")[0]\n",
    "    pred = pred[:size_out[1], :size_out[2]]\n",
    "\n",
    "    with rasterio.open(f'test_output/{i}', 'w', **meta) as fout:\n",
    "        fout.write(pred, 1)\n",
    "    print(pred.shape)"
   ]
  },
  {
   "cell_type": "code",
   "execution_count": 11,
   "id": "15cd3f1d-9329-4820-9ca5-bc33a53e96fb",
   "metadata": {},
   "outputs": [],
   "source": [
    "mkdir test_output"
   ]
  },
  {
   "cell_type": "code",
   "execution_count": 15,
   "id": "03dae143-94fc-462e-9704-df09a2a161d2",
   "metadata": {},
   "outputs": [
    {
     "name": "stdout",
     "output_type": "stream",
     "text": [
      "__pycache__\t\t\t   new_train_loop-pretain-Copy1.ipynb\n",
      "best_ce_e3.pth\t\t\t   new_train_loop-pretain-Copy2.ipynb\n",
      "best_focal.pth\t\t\t   new_train_loop-pretain.ipynb\n",
      "best_focal_e3.pth\t\t   new_train_loop.ipynb\n",
      "best_jaccard.pth\t\t   save_result_copy-alan.ipynb\n",
      "best_pretrain_deeplabv_50.pth\t   seg_model.py\n",
      "best_without.pth\t\t   sentinel2_resnet50_mi_ms-da5413d2.pth\n",
      "dataset_create.py\t\t   test_output\n",
      "new_train_loop-jaccard_pred.ipynb\n"
     ]
    }
   ],
   "source": [
    "!ls\n",
    "# !rm -rf test_output/*"
   ]
  },
  {
   "cell_type": "code",
   "execution_count": null,
   "id": "d33bb135-16cf-492c-8658-f4a3237d1133",
   "metadata": {},
   "outputs": [],
   "source": [
    "#!/bin/bash\n",
    "\n",
    "OSM_PATH=\"train/osm\"\n",
    "MASKS_PATH=\"train/masks\"\n",
    "PREDS_PATH=\"test_output\"\n",
    "PRE_GT_PATH=\"9_1.tif\"\n",
    "POST_GT_PATH=\"9_2.tif\"\n",
    "PRE_PRED_PATH=\"9_1_out.tif\"\n",
    "POST_PRED_PATH=\"9_2_out.tif\"\n",
    "\n",
    "python3 calculate_metrics.py \\\n",
    "    --osm_path \"$OSM_PATH\" \\\n",
    "    --masks_path \"$MASKS_PATH\" \\\n",
    "    --preds_path \"$PREDS_PATH\" \\\n",
    "    --pre_gt_path \"$PRE_GT_PATH\" \\\n",
    "    --post_gt_path \"$POST_GT_PATH\" \\\n",
    "    --pre_pred_path \"$PRE_PRED_PATH\" \\\n",
    "    --post_pred_path \"$POST_PRED_PATH\"\n"
   ]
  },
  {
   "cell_type": "code",
   "execution_count": null,
   "id": "0672c9a7-bd54-4fa6-a027-d110f427674b",
   "metadata": {},
   "outputs": [],
   "source": [
    "#!/bin/bash\n",
    "OSM_PATH=\"train/osm\"\n",
    "MASKS_PATH=\"train/masks\"\n",
    "PREDS_PATH=\"test_output\"\n",
    "PRE_GT_PATH=\"9_1.tif\"\n",
    "POST_GT_PATH=\"9_2.tif\"\n",
    "PRE_PRED_PATH=\"9_1_out.tif\"\n",
    "POST_PRED_PATH=\"9_2_out.tif\"\n",
    "\n",
    "python3 calculate_metrics.py \\\n",
    "    --osm_path \"train/osm\" \\\n",
    "    --masks_path \"train/masks\" \\\n",
    "    --preds_path \"test_output\" \\\n",
    "    --pre_gt_path \"9_1.tif\" \\\n",
    "    --post_gt_path \"9_2.tif\" \\\n",
    "    --pre_pred_path \"9_1_out.tif\" \\\n",
    "    --post_pred_path \"9_2_out.tif\"\n"
   ]
  },
  {
   "cell_type": "code",
   "execution_count": null,
   "id": "702ed8cc-47a6-4589-918e-2de5a8d30296",
   "metadata": {},
   "outputs": [],
   "source": [
    "python3 calculate_metrics.py \\\n",
    "     --osm_path \"train/osm/9.geojson\" \\\n",
    "     --masks_path \"train/masks\" \\\n",
    "     --preds_path \"test_output\" \\\n",
    "     --pre_gt_path \"train/masks/9_1.tif\" \\\n",
    "     --post_gt_path \"train/masks/9_2.tif\" \\\n",
    "     --pre_pred_path \"test_output/9_1.tif\" \\\n",
    "     --post_pred_path \"test_output/9_2.tif\"\n",
    "\n",
    "\n",
    "example_preds"
   ]
  },
  {
   "cell_type": "code",
   "execution_count": null,
   "id": "11dd3f12-36f3-4a2d-a2d2-3e5a47e82cf0",
   "metadata": {},
   "outputs": [],
   "source": [
    "python3 calculate_metrics.py \\\n",
    "     --osm_path \"train/osm/9.geojson\" \\\n",
    "     --masks_path \"train/masks\" \\\n",
    "     --preds_path \"train/example_preds\" \\\n",
    "     --pre_gt_path \"train/masks/9_1.tif\" \\\n",
    "     --post_gt_path \"train/masks/9_2.tif\" \\\n",
    "     --pre_pred_path \"train/example_preds/9_1.tif\" \\\n",
    "     --post_pred_path \"train/example_preds/9_2.tif\"\n",
    "\n"
   ]
  },
  {
   "cell_type": "code",
   "execution_count": null,
   "id": "2f9d7bc2-e04c-4ea5-a9ce-2a70264c1a6f",
   "metadata": {},
   "outputs": [],
   "source": [
    "python3 calculate_metrics.py \\\n",
    "     --osm_path \"train/osm/9.geojson\" \\\n",
    "     --masks_path \"train/masks\" \\\n",
    "     --preds_path \"../test_output\" \\\n",
    "     --pre_gt_path \"train/masks/9_1.tif\" \\\n",
    "     --post_gt_path \"train/masks/9_2.tif\" \\\n",
    "     --pre_pred_path \"../test_output/9_1.tif\" \\\n",
    "     --post_pred_path \"../test_output/9_2.tif\"\n",
    "\n",
    "\n",
    "example_preds"
   ]
  },
  {
   "cell_type": "code",
   "execution_count": null,
   "id": "6fb487f6-94ba-4e7a-805f-05c674fb8107",
   "metadata": {},
   "outputs": [],
   "source": [
    "# pre_pred_path = \"path_to_pre_pred_image.tif\"\n",
    "# post_pred_path = \"path_to_post_pred_image.tif\"\n",
    "# pre_pred = infer_and_normalize(pre_pred_path)\n",
    "# post_pred = infer_and_normalize(post_pred_path)\n",
    "\n",
    "# # Открытие данных Ground Truth (GT)\n",
    "# pre_gt_path = \"path_to_pre_gt_image.tif\"\n",
    "# post_gt_path = \"path_to_post_gt_image.tif\"\n",
    "\n",
    "# with rasterio.open(pre_gt_path) as src:\n",
    "#     pre_gt = src.read(1)  # Читаем Ground Truth\n",
    "\n",
    "# with rasterio.open(post_gt_path) as src:\n",
    "#     post_gt = src.read(1)  # Читаем Ground Truth\n",
    "\n",
    "# # Вычисление метрик\n",
    "# masks_path = \"train/masks\"\n",
    "# preds_path = \"path_to_preds\"\n",
    "# osm_path = \"train/osm\"\n",
    "\n",
    "# f1_water = calculate_f1_score(masks_path, preds_path)\n",
    "\n",
    "# # Геоданные для расчета затопленных домов\n",
    "# pre_height, pre_width = pre_gt.shape\n",
    "# pre_cols, pre_rows = np.meshgrid(np.arange(pre_width), np.arange(pre_height))\n",
    "# pre_x, pre_y = rasterio.transform.xy(src.transform, pre_rows, pre_cols) \n",
    "# pre_lons, pre_lats = np.array(pre_x), np.array(pre_y)\n",
    "\n",
    "# post_height, post_width = post_gt.shape\n",
    "# post_cols, post_rows = np.meshgrid(np.arange(post_width), np.arange(post_height))\n",
    "# post_x, post_y = rasterio.transform.xy(src.transform, post_rows, post_cols) \n",
    "# post_lons, post_lats = np.array(post_x), np.array(post_y)\n",
    "\n",
    "# pre_f1 = flooded_houses(osm_path, pre_lats, pre_lons, pre_pred, pre_gt)\n",
    "# post_f1 = flooded_houses(osm_path, post_lats, post_lons, post_pred, post_gt)\n",
    "# avg_f1_business = (pre_f1 + post_f1) / 2\n",
    "\n",
    "# print(f\"F1-Score: {(f1_water + avg_f1_business) / 2 :.3f}\")"
   ]
  }
 ],
 "metadata": {
  "kernelspec": {
   "display_name": "hack",
   "language": "python",
   "name": "hack"
  },
  "language_info": {
   "codemirror_mode": {
    "name": "ipython",
    "version": 3
   },
   "file_extension": ".py",
   "mimetype": "text/x-python",
   "name": "python",
   "nbconvert_exporter": "python",
   "pygments_lexer": "ipython3",
   "version": "3.10.12"
  }
 },
 "nbformat": 4,
 "nbformat_minor": 5
}
